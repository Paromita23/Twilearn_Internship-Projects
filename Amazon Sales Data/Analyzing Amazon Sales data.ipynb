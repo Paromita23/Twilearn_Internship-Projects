{
 "cells": [
  {
   "cell_type": "markdown",
   "id": "8af5b25e-6a38-445f-ab28-a0a57f52657e",
   "metadata": {},
   "source": [
    "# AMAZON SALES DATA ANALYSIS-"
   ]
  },
  {
   "cell_type": "markdown",
   "id": "3b0b93cb-f5d3-4eae-86bc-4468bfae9014",
   "metadata": {},
   "source": [
    "### importing required libraries-"
   ]
  },
  {
   "cell_type": "code",
   "execution_count": 7,
   "id": "abdc700b-181c-4128-91cd-6e18959c4859",
   "metadata": {},
   "outputs": [],
   "source": [
    "import pandas as pd\n",
    "import matplotlib.pyplot as plt"
   ]
  },
  {
   "cell_type": "code",
   "execution_count": 8,
   "id": "b1089bd2-3eec-4baa-a452-be32a00649aa",
   "metadata": {},
   "outputs": [],
   "source": [
    "def load_data(file_path):\n",
    "  \"\"\"\n",
    "  Loads the sales data from a CSV file.\n",
    "\n",
    "  Args:\n",
    "    file_path (str): The path to the CSV file.\n",
    "\n",
    "  Returns:\n",
    "    pandas.DataFrame: The loaded sales data.\n",
    "  \"\"\"\n",
    "  try:\n",
    "    df = pd.read_csv(file_path)\n",
    "    return df\n",
    "  except FileNotFoundError:\n",
    "    print(f\"Error: File not found at {file_path}\")\n",
    "    return None\n",
    "  except Exception as e:\n",
    "    print(f\"Error loading data: {e}\")\n",
    "    return None"
   ]
  },
  {
   "cell_type": "code",
   "execution_count": 9,
   "id": "3109c80e-64ec-49f2-8848-389d78017c1c",
   "metadata": {},
   "outputs": [],
   "source": [
    "def preprocess_data(df):\n",
    "  \"\"\"\n",
    "  Preprocesses the sales data.\n",
    "\n",
    "  Args:\n",
    "    df (pandas.DataFrame): The sales data.\n",
    "\n",
    "  Returns:\n",
    "    pandas.DataFrame: The preprocessed sales data.\n",
    "  \"\"\"\n",
    "  try:\n",
    "    df['Order Date'] = pd.to_datetime(df['Order Date'])\n",
    "    return df\n",
    "  except KeyError:\n",
    "    print(\"Error: 'Order Date' column not found in the data.\")\n",
    "    return None\n",
    "  except Exception as e:\n",
    "    print(f\"Error preprocessing data: {e}\")\n",
    "    return None"
   ]
  },
  {
   "cell_type": "code",
   "execution_count": 10,
   "id": "900b4748-f230-469c-b078-a6d5bb2373df",
   "metadata": {},
   "outputs": [],
   "source": [
    "def analyze_sales_trends(df):\n",
    "  \"\"\"\n",
    "  Analyzes the sales trends and prints the results.\n",
    "\n",
    "  Args:\n",
    "    df (pandas.DataFrame): The preprocessed sales data.\n",
    "  \"\"\"\n",
    "  try:\n",
    "    # Monthly sales trend\n",
    "    monthly_sales = df.groupby(df['Order Date'].dt.month)['Units Sold'].sum()\n",
    "\n",
    "    # Yearly sales trend\n",
    "    yearly_sales = df.groupby(df['Order Date'].dt.year)['Units Sold'].sum()\n",
    "\n",
    "    # Monthly-Yearly sales trend\n",
    "    monthly_yearly_sales = df.groupby([df['Order Date'].dt.year, df['Order Date'].dt.month])['Units Sold'].sum()\n",
    "\n",
    "    # Plotting the trends\n",
    "    plot_sales_trends(monthly_sales, yearly_sales, monthly_yearly_sales)\n",
    "\n",
    "  except KeyError:\n",
    "    print(\"Error: 'Units Sold' or 'Order Date' column not found in the data.\")\n",
    "  except Exception as e:\n",
    "    print(f\"Error analyzing sales trends: {e}\")"
   ]
  },
  {
   "cell_type": "code",
   "execution_count": 11,
   "id": "de2e1856-f15f-4efa-8558-b9b27fd4fc13",
   "metadata": {},
   "outputs": [],
   "source": [
    "def plot_sales_trends(monthly_sales, yearly_sales, monthly_yearly_sales):\n",
    "  \"\"\"\n",
    "  Plots the sales trends using bar charts.\n",
    "\n",
    "  Args:\n",
    "    monthly_sales (pandas.Series): Monthly sales data.\n",
    "    yearly_sales (pandas.Series): Yearly sales data.\n",
    "    monthly_yearly_sales (pandas.Series): Monthly-Yearly sales data.\n",
    "  \"\"\"\n",
    "  try:\n",
    "    plt.figure(figsize=(6, 4))\n",
    "\n",
    "    monthly_sales.plot(kind='bar')\n",
    "    plt.title('Monthly Sales')\n",
    "    plt.xlabel('Month')\n",
    "    plt.ylabel('Units Sold')\n",
    "    plt.tight_layout()\n",
    "    plt.savefig('Monthly Sales Trend.png')\n",
    "\n",
    "    plt.figure(figsize=(6, 4))\n",
    "    yearly_sales.plot(kind='bar')\n",
    "    plt.title('Yearly Sales')\n",
    "    plt.xlabel('Year')\n",
    "    plt.ylabel('Units Sold')\n",
    "    plt.tight_layout()\n",
    "    plt.savefig('Yearly Sales Trend.png')\n",
    "    \n",
    "    plt.figure(figsize=(14, 5))\n",
    "    monthly_yearly_sales.plot(kind='bar')\n",
    "    plt.title('Monthly-Yearly Sales')\n",
    "    plt.xlabel('Month-Year')\n",
    "    plt.ylabel('Units Sold')\n",
    "    plt.tight_layout()\n",
    "    plt.savefig('Monthly-Yearly Sales Trend.png')\n",
    "\n",
    "    plt.show()\n",
    "    \n",
    "  except Exception as e:\n",
    "    print(f\"Error plotting sales trends: {e}\")"
   ]
  },
  {
   "cell_type": "code",
   "execution_count": 12,
   "id": "65cac403-1a15-4e5c-ac50-f953e4f23603",
   "metadata": {},
   "outputs": [
    {
     "name": "stdout",
     "output_type": "stream",
     "text": [
      "Error: File not found at C:\\Users\\User\\Desktop\\Internship\\PROJECT 1\\Amazon Sales data.csv\n"
     ]
    }
   ],
   "source": [
    "if __name__ == \"__main__\":\n",
    "  file_path = 'C:\\\\Users\\\\User\\\\Desktop\\\\Internship\\\\PROJECT 1\\\\Amazon Sales data.csv'  \n",
    "  df = load_data(file_path)\n",
    "  if df is not None:\n",
    "    df = preprocess_data(df)\n",
    "    if df is not None:\n",
    "      analyze_sales_trends(df)"
   ]
  },
  {
   "cell_type": "code",
   "execution_count": null,
   "id": "e393eb49-c298-4a97-b750-4c92a9ba587e",
   "metadata": {},
   "outputs": [],
   "source": []
  }
 ],
 "metadata": {
  "kernelspec": {
   "display_name": "Python 3 (ipykernel)",
   "language": "python",
   "name": "python3"
  },
  "language_info": {
   "codemirror_mode": {
    "name": "ipython",
    "version": 3
   },
   "file_extension": ".py",
   "mimetype": "text/x-python",
   "name": "python",
   "nbconvert_exporter": "python",
   "pygments_lexer": "ipython3",
   "version": "3.12.4"
  }
 },
 "nbformat": 4,
 "nbformat_minor": 5
}
